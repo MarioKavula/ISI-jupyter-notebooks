{
 "cells": [
  {
   "cell_type": "markdown",
   "id": "66441b8c",
   "metadata": {},
   "source": [
    "# DFS v grafoch\n",
    "\n",
    "Hľadanie do hĺbky (DFS - Depth First Search) je základný algoritmus na prehľadávanie alebo prechádzanie stromov alebo grafov. DFS preskúma vetvu grafu tak hlboko, ako je to možné, predtým, ako sa vráti späť, aby preskúmal ďalšie vetvy. Algoritmus DFS sa široko používa v informatike pre rôzne účely, od hľadania cesty v labyrinte po analýzu sietí."
   ]
  },
  {
   "cell_type": "markdown",
   "id": "6e6babf8",
   "metadata": {},
   "source": [
    "## Teoretické základy DFS\n",
    "\n",
    "DFS je základný algoritmus používaný pre prechádzanie grafov alebo vyhľadávanie v stromoch. Začína od koreňového uzlu a pokračuje čo najhlbšie pozdĺž každej vetvy predtým, ako sa vráti. V tejto časti prediskutujeme logiku algoritmu, jeho aplikácie a porovnáme ho s BFS (Breadth-First Search) na zvýraznenie ich rozdielov.\n",
    "\n",
    "![SegmentLocal](data/dfs.gif \"segment\")"
   ]
  },
  {
   "cell_type": "markdown",
   "id": "b029146a",
   "metadata": {},
   "source": [
    "### DFS Algoritmus\n",
    "\n",
    "Pseudokód pre DFS:\n",
    "\n",
    "```plaintext\n",
    "DFS(užol):\n",
    "    označ užol ako navštívený\n",
    "    pre každý užol v zozname susedov užla:\n",
    "        ak susedný užol nie je navštívený:\n",
    "            rekurzívne vykonaj DFS na susednom užle\n",
    "```\n",
    "\n",
    "Tento algoritmus používa rekurziu na prechádzanie grafu hĺbkovo. Poďme si tento algoritmus implementovať v Python."
   ]
  },
  {
   "cell_type": "code",
   "execution_count": null,
   "id": "818cee2e",
   "metadata": {},
   "outputs": [],
   "source": [
    "def dfs(graph, start, visited=None):\n",
    "    if visited is None:\n",
    "        visited = set()\n",
    "    visited.add(start)\n",
    "    print(f\"Navštívené: {start}\")\n",
    "    for next in graph[start] - visited:\n",
    "        dfs(graph, next, visited)\n",
    "    return visited\n",
    "\n",
    "graph = {\n",
    "    'A': {'B', 'C'},\n",
    "    'B': {'A', 'D', 'E'},\n",
    "    'C': {'A', 'F'},\n",
    "    'D': {'B'},\n",
    "    'E': {'B', 'F'},\n",
    "    'F': {'C', 'E'}\n",
    "}\n",
    "\n",
    "dfs(graph, 'A')"
   ]
  },
  {
   "cell_type": "markdown",
   "id": "44829745",
   "metadata": {},
   "source": [
    "## Prieskum vlastností grafov s DFS\n",
    "\n",
    "DFS je nielen užitočný pre jednoduché prechádzanie, ale aj pre skúmanie rôznych vlastností grafov, ako sú detekcia cyklov, hľadanie ciest, a identifikácia spojitých komponentov. Pozrieme sa, ako môžeme využiť DFS na tieto účely."
   ]
  },
  {
   "cell_type": "markdown",
   "id": "693a0371",
   "metadata": {},
   "source": [
    "### Pokročilé aplikácie DFS\n",
    "\n",
    "Jednou z pokročilých aplikácií DFS je detekcia cyklov v orientovaných grafoch. Pozrime sa, ako môžeme modifikovať našu implementáciu DFS na detekciu cyklov v grafe."
   ]
  },
  {
   "cell_type": "code",
   "execution_count": null,
   "id": "2004707a",
   "metadata": {},
   "outputs": [],
   "source": [
    "def dfs_detekcia_cyklov(graph, node, visited=None, rec_stack=None):\n",
    "    if visited is None:\n",
    "        visited = set()\n",
    "    if rec_stack is None:\n",
    "        rec_stack = set()\n",
    "    visited.add(node)\n",
    "    rec_stack.add(node)\n",
    "    for sused in graph[node]:\n",
    "        if sused not in visited:\n",
    "            if dfs_detekcia_cyklov(graph, sused, visited, rec_stack):\n",
    "                return True\n",
    "        elif sused in rec_stack:\n",
    "            return True\n",
    "    rec_stack.remove(node)\n",
    "    return False\n",
    "\n",
    "print(\"Detekcia cyklu:\", dfs_detekcia_cyklov(graph, 'A'))"
   ]
  },
  {
   "cell_type": "markdown",
   "id": "752eab30",
   "metadata": {},
   "source": [
    "## Analýza zložitosti\n",
    "\n",
    "Časová zložitosť DFS je \\(O(V + E)\\), kde \\(V\\) je počet vrcholov a \\(E\\) je počet hrán v grafe. Priestorová zložitosť je \\(O(V)\\) kvôli ukladaniu stavu navštívených uzlov."
   ]
  },
  {
   "cell_type": "markdown",
   "id": "1dcd8aee",
   "metadata": {},
   "source": [
    "## Praktické cvičenia\n",
    "\n",
    "1. Implementujte DFS pre graf reprezentovaný maticou susednosti.\n",
    "2. Modifikujte implementáciu DFS, aby identifikovala všetky možné cesty medzi dvoma uzlami.\n",
    "3. Použite DFS na riešenie jednoduchého bludiska reprezentovaného 2D poľom.\n",
    "\n",
    "Tieto úlohy majú za cieľ posilniť vaše pochopenie a schopnosť aplikovať DFS v rôznych kontextoch."
   ]
  },
  {
   "cell_type": "markdown",
   "id": "a2d06e1a",
   "metadata": {},
   "source": [
    "## Zhrnutie\n",
    "\n",
    "V tomto notebooku sme sa podrobne venovali DFS, jeho teoretickým základom, praktickej implementácii a pokročilým aplikáciám. Cvičenia poskytované vám dávajú príležitosť aplikovať DFS na riešenie komplexných problémov s grafmi, čím sa zlepšujú vaše problémové zručnosti a porozumenie grafickým algoritmám."
   ]
  }
 ],
 "metadata": {
  "kernelspec": {
   "display_name": "Python 3",
   "language": "python",
   "name": "python3"
  },
  "language_info": {
   "codemirror_mode": {
    "name": "ipython",
    "version": 3
   },
   "file_extension": ".py",
   "mimetype": "text/x-python",
   "name": "python",
   "nbconvert_exporter": "python",
   "pygments_lexer": "ipython3",
   "version": "3.6.9"
  }
 },
 "nbformat": 4,
 "nbformat_minor": 5
}
