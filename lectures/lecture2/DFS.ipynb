{
 "cells": [
  {
   "cell_type": "markdown",
   "id": "66441b8c",
   "metadata": {},
   "source": [
    "# DFS v grafoch\n",
    "\n",
    "Hľadanie do hĺbky (DFS - Depth First Search) je základný algoritmus na prehľadávanie alebo prechádzanie stromov alebo grafov. DFS preskúma vetvu grafu tak hlboko, ako je to možné, predtým, ako sa vráti späť, aby preskúmal ďalšie vetvy. Algoritmus DFS sa široko používa v informatike pre rôzne účely, od hľadania cesty v labyrinte po analýzu sietí."
   ]
  },
  {
   "cell_type": "markdown",
   "id": "6e6babf8",
   "metadata": {},
   "source": [
    "## Fungovanie DFS na príklade grafu\n",
    "\n",
    "V nasledujúcej časti sa pozrieme na animovaný príklad, ktorý nám ilustruje, ako algoritmus DFS postupuje pri prehľadávaní grafu. GIF, ktorý vidíte, ukazuje graf s vrcholmi označenými číslami od 0 po 8 a orientovanými hranami, ktoré ich spájajú.\n",
    "\n",
    "Pri DFS algoritme začíname od zdrojového vrcholu (v tomto prípade vrchol 0) a postupujeme hĺbkovo do grafu, čo znamená, že skôr ako prejdeme k inému susedovi, najskôr navštívime jedného suseda vrcholu a pokračujeme v tejto vetve tak hlboko, ako je to možné. Až keď dosiahneme vrchol, z ktorého už nemôžeme ďalej pokračovať (tento vrchol nemá nenavštívených susedov alebo vychádzajúce hrany), vrátime sa späť a skúmame ďalšie vetvy grafu. Tento proces pokračuje, kým nie sú všetky vrcholy označené ako navštívené.\n",
    "\n",
    "![SegmentLocal](data/dfs.gif \"segment\")\n",
    "\n",
    "### Kroky algoritmu na animácii:\n",
    "1. Začíname pri vrchole 0, ktorý je našim zdrojovým vrcholom.\n",
    "2. Postupujeme k vrcholu 1, keďže je to prvý nenavštívený sused vrcholu 0.\n",
    "3. Z vrcholu 1 pokračujeme k vrcholu 4, pretože je to jediný nenavštívený sused.\n",
    "4. Keďže vrchol 4 nemá ďalších nenavštívených susedov, vraciame sa späť k vrcholu 1 a potom k vrcholu 0, pretože ani jeden nemá ďalších nenavštívených susedov.\n",
    "5. Z vrcholu 0 ideme k vrcholu 2, potom k vrcholu 5.\n",
    "6. Vrchol 5 má dvoch susedov - 7 a 8. Navštívime vrchol 7 a následne vrchol 8.\n",
    "7. Vraciame sa späť k vrcholu 5 a potom k vrcholu 2, keďže sme už navštívili všetkých ich susedov.\n",
    "8. Nakoniec, z vrcholu 2 pokračujeme k vrcholu 3 a potom k vrcholu 6, čím sme navštívili všetky vrcholy grafu.\n",
    "\n",
    "Na konci tohto procesu sme každý vrchol navštívili práve raz a preskúmali všetky možné cesty v rámci grafu. Táto metóda hľadania je veľmi efektívna pre rôzne aplikácie, ako napríklad hľadanie cesty v labyrinte, kontrolu dosiahnuteľnosti v sieti alebo pri riešení problémov, ktoré vyžadujú systematické prehľadanie všetkých možností, ako napríklad generovanie permutácií alebo kombinácií."
   ]
  },
  {
   "cell_type": "markdown",
   "id": "b029146a",
   "metadata": {},
   "source": [
    "### DFS Algoritmus\n",
    "\n",
    "Pseudokód pre DFS:\n",
    "\n",
    "```plaintext\n",
    "DFS(uzol):\n",
    "    mark uzol as navštívený\n",
    "    for each uzol in zozname susedov of uzla:\n",
    "        if susedný uzol is not navštívený:\n",
    "            rekurzívne vykonaj DFS(sused)\n",
    "```\n",
    "\n",
    "Tento algoritmus používa rekurziu na prechádzanie grafu hĺbkovo. Poďme si tento algoritmus implementovať v Python.\n",
    "\n",
    "## Definícia Triedy Grafu\n",
    "Na začiatok definujeme základnú štruktúru grafu pomocou zoznamu susedov."
   ]
  },
  {
   "cell_type": "code",
   "execution_count": null,
   "id": "818cee2e",
   "metadata": {},
   "outputs": [],
   "source": [
    "def dfs(graph, start, visited=None):\n",
    "    if visited is None:\n",
    "        visited = set()\n",
    "    visited.add(start)\n",
    "    print(f\"Navštívené: {start}\")\n",
    "    for next in graph[start] - visited:\n",
    "        dfs(graph, next, visited)\n",
    "    return visited\n",
    "\n",
    "graph = {\n",
    "    'A': {'B', 'C'},\n",
    "    'B': {'A', 'D', 'E'},\n",
    "    'C': {'A', 'F'},\n",
    "    'D': {'B'},\n",
    "    'E': {'B', 'F'},\n",
    "    'F': {'C', 'E'}\n",
    "}\n",
    "\n",
    "dfs(graph, 'A')"
   ]
  },
  {
   "cell_type": "markdown",
   "id": "44829745",
   "metadata": {},
   "source": [
    "## Prieskum vlastností grafov s DFS\n",
    "\n",
    "DFS je nielen užitočný pre jednoduché prechádzanie, ale aj pre skúmanie rôznych vlastností grafov, ako sú detekcia cyklov, hľadanie ciest, a identifikácia spojitých komponentov. Pozrieme sa, ako môžeme využiť DFS na tieto účely."
   ]
  },
  {
   "cell_type": "markdown",
   "id": "693a0371",
   "metadata": {},
   "source": [
    "### Pokročilé aplikácie DFS\n",
    "\n",
    "Jednou z pokročilých aplikácií DFS je detekcia cyklov v orientovaných grafoch. Pozrime sa, ako môžeme modifikovať našu implementáciu DFS na detekciu cyklov v grafe."
   ]
  },
  {
   "cell_type": "markdown",
   "id": "752eab30",
   "metadata": {},
   "source": [
    "## Analýza zložitosti\n",
    "\n",
    "Časová zložitosť DFS je \\(O(V + E)\\), kde \\(V\\) je počet vrcholov a \\(E\\) je počet hrán v grafe. Priestorová zložitosť je \\(O(V)\\) kvôli ukladaniu stavu navštívených uzlov."
   ]
  },
  {
   "cell_type": "markdown",
   "id": "1dcd8aee",
   "metadata": {},
   "source": [
    "## Praktické cvičenia\n"
   ]
  },
  {
   "cell_type": "code",
   "execution_count": null,
   "id": "specified-gasoline",
   "metadata": {},
   "outputs": [],
   "source": []
  }
 ],
 "metadata": {
  "kernelspec": {
   "display_name": "Python 3",
   "language": "python",
   "name": "python3"
  },
  "language_info": {
   "codemirror_mode": {
    "name": "ipython",
    "version": 3
   },
   "file_extension": ".py",
   "mimetype": "text/x-python",
   "name": "python",
   "nbconvert_exporter": "python",
   "pygments_lexer": "ipython3",
   "version": "3.6.9"
  }
 },
 "nbformat": 4,
 "nbformat_minor": 5
}
