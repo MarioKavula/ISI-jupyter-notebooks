{
 "cells": [
  {
   "cell_type": "code",
   "execution_count": 14,
   "id": "hairy-train",
   "metadata": {},
   "outputs": [
    {
     "data": {
      "image/png": "[encoded data removed]",
      "text/plain": [
       "<Figure size 432x288 with 1 Axes>"
      ]
     },
     "metadata": {
      "needs_background": "light"
     },
     "output_type": "display_data"
    },
    {
     "name": "stdout",
     "output_type": "stream",
     "text": [
      "Maze generated and player initialized at start position: (1, 1)\n"
     ]
    }
   ],
   "source": [
    "from maze import Maze, Player\n",
    "import matplotlib.pyplot as plt\n",
    "\n",
    "def find_path(maze, start, goal):\n",
    "    # Placeholder for pathfinding algorithm implementation\n",
    "    # Students will implement their algorithm here\n",
    "    pass\n",
    "\n",
    "def setup_game(width, height, start_position):\n",
    "    # Initialize the maze and player\n",
    "    maze = Maze(width, height)\n",
    "    maze.generate_maze()\n",
    "    \n",
    "    player = Player(start_position)\n",
    "    \n",
    "    # Display the initial maze\n",
    "    maze.display()\n",
    "    \n",
    "    # Placeholder to call the pathfinding algorithm\n",
    "    # find_path(maze, start_position, maze.end_pos)\n",
    "    \n",
    "    # For now, just display the maze and player's start position\n",
    "    print(\"Maze generated and player initialized at start position:\", start_position)\n",
    "\n",
    "# Example setup, these parameters can be customized\n",
    "setup_game(20, 20, (1, 1))\n"
   ]
  },
  {
   "cell_type": "code",
   "execution_count": null,
   "id": "greatest-three",
   "metadata": {},
   "outputs": [],
   "source": []
  }
 ],
 "metadata": {
  "kernelspec": {
   "display_name": "Python 3",
   "language": "python",
   "name": "python3"
  },
  "language_info": {
   "codemirror_mode": {
    "name": "ipython",
    "version": 3
   },
   "file_extension": ".py",
   "mimetype": "text/x-python",
   "name": "python",
   "nbconvert_exporter": "python",
   "pygments_lexer": "ipython3",
   "version": "3.6.9"
  }
 },
 "nbformat": 4,
 "nbformat_minor": 5
}
