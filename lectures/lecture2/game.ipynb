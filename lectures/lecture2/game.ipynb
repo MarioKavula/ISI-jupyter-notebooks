{
 "cells": [
  {
   "cell_type": "code",
   "execution_count": 12,
   "id": "hairy-train",
   "metadata": {},
   "outputs": [
    {
     "ename": "ModuleNotFoundError",
     "evalue": "No module named 'maze_core'",
     "output_type": "error",
     "traceback": [
      "\u001b[0;31m---------------------------------------------------------------------------\u001b[0m",
      "\u001b[0;31mModuleNotFoundError\u001b[0m                       Traceback (most recent call last)",
      "\u001b[0;32m<ipython-input-12-86b2b020d9f4>\u001b[0m in \u001b[0;36m<module>\u001b[0;34m\u001b[0m\n\u001b[0;32m----> 1\u001b[0;31m \u001b[0;32mfrom\u001b[0m \u001b[0mmaze_core\u001b[0m \u001b[0;32mimport\u001b[0m \u001b[0mMaze\u001b[0m\u001b[0;34m,\u001b[0m \u001b[0mPlayer\u001b[0m\u001b[0;34m\u001b[0m\u001b[0;34m\u001b[0m\u001b[0m\n\u001b[0m\u001b[1;32m      2\u001b[0m \u001b[0;32mimport\u001b[0m \u001b[0mmatplotlib\u001b[0m\u001b[0;34m.\u001b[0m\u001b[0mpyplot\u001b[0m \u001b[0;32mas\u001b[0m \u001b[0mplt\u001b[0m\u001b[0;34m\u001b[0m\u001b[0;34m\u001b[0m\u001b[0m\n\u001b[1;32m      3\u001b[0m \u001b[0;34m\u001b[0m\u001b[0m\n\u001b[1;32m      4\u001b[0m \u001b[0;32mdef\u001b[0m \u001b[0mfind_path\u001b[0m\u001b[0;34m(\u001b[0m\u001b[0mmaze\u001b[0m\u001b[0;34m,\u001b[0m \u001b[0mstart\u001b[0m\u001b[0;34m,\u001b[0m \u001b[0mgoal\u001b[0m\u001b[0;34m)\u001b[0m\u001b[0;34m:\u001b[0m\u001b[0;34m\u001b[0m\u001b[0;34m\u001b[0m\u001b[0m\n\u001b[1;32m      5\u001b[0m     \u001b[0;31m# Placeholder for pathfinding algorithm implementation\u001b[0m\u001b[0;34m\u001b[0m\u001b[0;34m\u001b[0m\u001b[0;34m\u001b[0m\u001b[0m\n",
      "\u001b[0;31mModuleNotFoundError\u001b[0m: No module named 'maze_core'"
     ]
    }
   ],
   "source": [
    "from maze_core import Maze, Player\n",
    "import matplotlib.pyplot as plt\n",
    "\n",
    "def find_path(maze, start, goal):\n",
    "    # Placeholder for pathfinding algorithm implementation\n",
    "    # Students will implement their algorithm here\n",
    "    pass\n",
    "\n",
    "def setup_game(width, height, start_position):\n",
    "    # Initialize the maze and player\n",
    "    maze = Maze(width, height)\n",
    "    maze.generate_maze()\n",
    "    \n",
    "    player = Player(start_position)\n",
    "    \n",
    "    # Display the initial maze\n",
    "    maze.display()\n",
    "    \n",
    "    # Placeholder to call the pathfinding algorithm\n",
    "    # find_path(maze, start_position, maze.end_pos)\n",
    "    \n",
    "    # For now, just display the maze and player's start position\n",
    "    print(\"Maze generated and player initialized at start position:\", start_position)\n",
    "\n",
    "# Example setup, these parameters can be customized\n",
    "setup_game(20, 20, (1, 1))\n"
   ]
  },
  {
   "cell_type": "code",
   "execution_count": null,
   "id": "greatest-three",
   "metadata": {},
   "outputs": [],
   "source": []
  }
 ],
 "metadata": {
  "kernelspec": {
   "display_name": "Python 3",
   "language": "python",
   "name": "python3"
  },
  "language_info": {
   "codemirror_mode": {
    "name": "ipython",
    "version": 3
   },
   "file_extension": ".py",
   "mimetype": "text/x-python",
   "name": "python",
   "nbconvert_exporter": "python",
   "pygments_lexer": "ipython3",
   "version": "3.6.9"
  }
 },
 "nbformat": 4,
 "nbformat_minor": 5
}
