{
 "cells": [
  {
   "cell_type": "markdown",
   "id": "metropolitan-organic",
   "metadata": {},
   "source": [
    "## Core Library Documentation\n",
    "\n",
    "### Maze Class\n",
    "\n",
    "- `__init__(self, width, height)`: Initializes a new Maze instance with the given width and height.\n",
    "- `generate_maze(self)`: Generates a new random maze.\n",
    "- `display(self, player_pos=None)`: Displays the maze using matplotlib, optionally marking the player's position.\n",
    "- `get_possible_moves(self, current_pos)`: Returns a list of possible moves ('up', 'down', 'left', 'right') from the current position.\n",
    "- `move_player(self, player, direction)`: Attempts to move the player in the given direction and returns the new position. If the move is not valid, it returns the current position.\n",
    "- `is_move_valid(self, current_pos, direction)`: Checks if a move in a certain direction is valid from the current position.\n",
    "- `has_reached_goal(self, current_pos)`: Checks if the current position is the goal position.\n",
    "- `mark_visited(self, pos)`: Marks a cell at the specified position as visited.\n",
    "\n",
    "### Player Class\n",
    "\n",
    "- `__init__(self, start_pos)`: Initializes a new Player instance at the given start position.\n",
    "- `move(self, direction, maze)`: Moves the player in the given direction if possible. The maze is used to check for walls and boundaries.\n",
    "\n",
    "## Vaše zadanie\n",
    "\n",
    "Vašou úlohou je implementovať funkciu `dfs` pomocou algoritmu DFS (Depth-First Search). Táto funkcia by mala vrátiť nájdenú cestu ako zoznam pozícií (tuples), začínajúci od počiatočnej pozície a končiaci v cieľovej pozícii. Ak sa nenájde žiadna cesta, mala by vrátiť hodnotu None.\n",
    "\n",
    "Na interakciu s bludiskom použite metódy, ktoré poskytujú triedy Maze a Player. Nemali by ste potrebovať modifikovať tieto triedy ani priamo pristupovať k štruktúre bludiska.\n",
    "\n",
    "Veľa šťastia a nezabudnite svoje riešenie dôkladne otestovať!\n"
   ]
  },
  {
   "cell_type": "code",
   "execution_count": null,
   "id": "martial-matter",
   "metadata": {},
   "outputs": [],
   "source": [
    "from maze import Maze, Player\n",
    "\n",
    "def dfs(maze, player, goal, visited=set()):\n",
    "    # Placeholder for pathfinding algorithm implementation\n",
    "    # Students will implement their algorithm here\n",
    "    return False\n",
    "\n",
    "\n",
    "# Setup the maze and player\n",
    "maze = Maze(20, 20)\n",
    "maze.generate_maze()\n",
    "player = Player(maze.start_pos)\n",
    "start_position = maze.start_pos\n",
    "end_position = maze.end_pos\n",
    "visited = set()\n",
    "\n",
    "# Run DFS to find a path from start to goal\n",
    "maze.display(player.position)\n",
    "# path = dfs(maze, start_position, end_position, visited)\n",
    "\n",
    "if path:\n",
    "    print(\"Path found:\", path)\n",
    "    for pos in path:\n",
    "        maze.mark_visited(pos)\n",
    "else:\n",
    "    print(\"No path found.\")\n",
    "\n",
    "# Display the maze after attempting to solve\n",
    "maze.display(player.position)"
   ]
  }
 ],
 "metadata": {
  "kernelspec": {
   "display_name": "Python 3",
   "language": "python",
   "name": "python3"
  },
  "language_info": {
   "codemirror_mode": {
    "name": "ipython",
    "version": 3
   },
   "file_extension": ".py",
   "mimetype": "text/x-python",
   "name": "python",
   "nbconvert_exporter": "python",
   "pygments_lexer": "ipython3",
   "version": "3.6.9"
  }
 },
 "nbformat": 4,
 "nbformat_minor": 5
}
