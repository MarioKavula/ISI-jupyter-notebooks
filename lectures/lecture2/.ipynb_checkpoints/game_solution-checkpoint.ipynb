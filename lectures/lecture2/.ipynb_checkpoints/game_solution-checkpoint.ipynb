{
 "cells": [
  {
   "cell_type": "code",
   "execution_count": null,
   "id": "monthly-parks",
   "metadata": {},
   "outputs": [],
   "source": [
    "from maze import Maze, Player\n",
    "import matplotlib.pyplot as plt\n",
    "\n",
    "def dfs(maze, current_pos, goal, path=[]):\n",
    "    # Mark the current position as visited\n",
    "    path.append(current_pos)\n",
    "    maze.mark_visited(current_pos)\n",
    "\n",
    "    # Check if the current position is the goal\n",
    "    if current_pos == goal:\n",
    "        return path\n",
    "\n",
    "    # Explore neighboring positions (up, down, left, right)\n",
    "    for direction in [\"up\", \"down\", \"left\", \"right\"]:\n",
    "        new_position = player.move(direction, maze)\n",
    "        \n",
    "        if new_position and new_position not in path:\n",
    "            result = dfs(maze, new_position, goal, path)\n",
    "            if result:\n",
    "                return result\n",
    "    \n",
    "    # Backtrack if no valid moves are available\n",
    "    path.pop()\n",
    "    return None\n",
    "\n",
    "# Modify the setup_game function to include the DFS call\n",
    "def setup_game(width, height, start_position, end_position):\n",
    "    # Initialize the maze and player\n",
    "    maze = Maze(width, height)\n",
    "    maze.generate_maze()\n",
    "    player = Player(start_position)\n",
    "    \n",
    "    # Call DFS to find the path\n",
    "    path = dfs(maze, start_position, end_position)\n",
    "\n",
    "    # Visualize the final path if one was found\n",
    "    if path:\n",
    "        print(\"Path found:\", path)\n",
    "        for pos in path:\n",
    "            maze.mark_visited(pos)\n",
    "    else:\n",
    "        print(\"No path found\")\n",
    "\n",
    "    # Display the final state of the maze with the path\n",
    "    maze.display(player.position)\n",
    "\n",
    "# Example setup, these parameters can be customized\n",
    "setup_game(20, 20, (1, 1), (18, 18))"
   ]
  }
 ],
 "metadata": {
  "kernelspec": {
   "display_name": "Python 3",
   "language": "python",
   "name": "python3"
  },
  "language_info": {
   "codemirror_mode": {
    "name": "ipython",
    "version": 3
   },
   "file_extension": ".py",
   "mimetype": "text/x-python",
   "name": "python",
   "nbconvert_exporter": "python",
   "pygments_lexer": "ipython3",
   "version": "3.6.9"
  }
 },
 "nbformat": 4,
 "nbformat_minor": 5
}
