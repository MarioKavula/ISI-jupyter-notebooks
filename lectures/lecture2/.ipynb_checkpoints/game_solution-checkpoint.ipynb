{
 "cells": [
  {
   "cell_type": "markdown",
   "id": "faced-approval",
   "metadata": {},
   "source": [
    "# Maze Solver Assignment\n",
    "\n",
    "## Introduction\n",
    "In this assignment, you are tasked with implementing a pathfinding algorithm to solve a maze. The maze is represented as a grid of cells, where each cell can either be open (path) or blocked (wall). You will write an algorithm to find a path from the start position to the end position of the maze.\n",
    "\n",
    "## Core Library Documentation\n",
    "\n",
    "### Maze Class\n",
    "\n",
    "- `__init__(self, width, height)`: Initializes a new Maze instance with the given width and height.\n",
    "- `generate_maze(self)`: Generates a new random maze.\n",
    "- `display(self, player_pos=None)`: Displays the maze using matplotlib, optionally marking the player's position.\n",
    "- `get_possible_moves(self, current_pos)`: Returns a list of possible moves ('up', 'down', 'left', 'right') from the current position.\n",
    "- `move_player(self, player, direction)`: Attempts to move the player in the given direction and returns the new position. If the move is not valid, it returns the current position.\n",
    "- `is_move_valid(self, current_pos, direction)`: Checks if a move in a certain direction is valid from the current position.\n",
    "- `has_reached_goal(self, current_pos)`: Checks if the current position is the goal position.\n",
    "- `mark_visited(self, pos)`: Marks a cell at the specified position as visited.\n",
    "\n",
    "### Player Class\n",
    "\n",
    "- `__init__(self, start_pos)`: Initializes a new Player instance at the given start position.\n",
    "- `move(self, direction, maze)`: Moves the player in the given direction if possible. The maze is used to check for walls and boundaries.\n",
    "\n",
    "## Assignment Task\n",
    "\n",
    "Your task is to implement the `find_path` function using the Depth-First Search (DFS) algorithm. This function should return the path found as a list of positions (tuples), starting from the start position and ending at the goal position. If no path is found, it should return None.\n",
    "\n",
    "Utilize the methods provided by the Maze and Player classes to interact with the maze. You should not need to modify these classes or directly access the maze grid.\n",
    "\n",
    "Good luck, and remember to test your solution thoroughly!\n"
   ]
  },
  {
   "cell_type": "code",
   "execution_count": 9,
   "id": "smooth-lighter",
   "metadata": {},
   "outputs": [
    {
     "name": "stdout",
     "output_type": "stream",
     "text": [
      "No path found.\n"
     ]
    },
    {
     "data": {
      "image/png": "[encoded data removed]",
      "text/plain": [
       "<Figure size 432x288 with 1 Axes>"
      ]
     },
     "metadata": {},
     "output_type": "display_data"
    }
   ],
   "source": [
    "def dfs(maze, position, goal, visited):\n",
    "    if position == goal:\n",
    "        return [position]\n",
    "\n",
    "    visited.add(position)\n",
    "    possible_moves = maze.get_possible_moves(position)\n",
    "\n",
    "    for move in possible_moves:\n",
    "        new_x, new_y = position\n",
    "        if move == \"up\":\n",
    "            new_x -= 1\n",
    "        elif move == \"down\":\n",
    "            new_x += 1\n",
    "        elif move == \"left\":\n",
    "            new_y -= 1\n",
    "        elif move == \"right\":\n",
    "            new_y += 1\n",
    "\n",
    "        new_position = (new_x, new_y)\n",
    "\n",
    "        if new_position not in visited:\n",
    "            path = dfs(maze, new_position, goal, visited)\n",
    "            if path:\n",
    "                return [position] + path\n",
    "\n",
    "    return None\n",
    "\n",
    "# Example usage\n",
    "maze = Maze(20, 20)\n",
    "maze.generate_maze()\n",
    "start_position = maze.start_pos\n",
    "end_position = maze.end_pos\n",
    "visited = set()\n",
    "\n",
    "path = dfs(maze, start_position, end_position, visited)\n",
    "\n",
    "if path:\n",
    "    print(\"Path found:\", path)\n",
    "    for pos in path:\n",
    "        maze.mark_visited(pos)\n",
    "else:\n",
    "    print(\"No path found.\")\n",
    "\n",
    "maze.display()"
   ]
  }
 ],
 "metadata": {
  "kernelspec": {
   "display_name": "Python 3",
   "language": "python",
   "name": "python3"
  },
  "language_info": {
   "codemirror_mode": {
    "name": "ipython",
    "version": 3
   },
   "file_extension": ".py",
   "mimetype": "text/x-python",
   "name": "python",
   "nbconvert_exporter": "python",
   "pygments_lexer": "ipython3",
   "version": "3.6.9"
  }
 },
 "nbformat": 4,
 "nbformat_minor": 5
}
