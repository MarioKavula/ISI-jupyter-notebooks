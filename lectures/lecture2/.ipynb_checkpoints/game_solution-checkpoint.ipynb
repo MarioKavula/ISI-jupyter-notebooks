{
 "cells": [
  {
   "cell_type": "markdown",
   "id": "faced-approval",
   "metadata": {},
   "source": [
    "# Maze Solver Assignment\n",
    "\n",
    "## Introduction\n",
    "In this assignment, you are tasked with implementing a pathfinding algorithm to solve a maze. The maze is represented as a grid of cells, where each cell can either be open (path) or blocked (wall). You will write an algorithm to find a path from the start position to the end position of the maze.\n",
    "\n",
    "## Core Library Documentation\n",
    "\n",
    "### Maze Class\n",
    "\n",
    "- `__init__(self, width, height)`: Initializes a new Maze instance with the given width and height.\n",
    "- `generate_maze(self)`: Generates a new random maze.\n",
    "- `display(self, player_pos=None)`: Displays the maze using matplotlib, optionally marking the player's position.\n",
    "- `get_possible_moves(self, current_pos)`: Returns a list of possible moves ('up', 'down', 'left', 'right') from the current position.\n",
    "- `move_player(self, player, direction)`: Attempts to move the player in the given direction and returns the new position. If the move is not valid, it returns the current position.\n",
    "- `is_move_valid(self, current_pos, direction)`: Checks if a move in a certain direction is valid from the current position.\n",
    "- `has_reached_goal(self, current_pos)`: Checks if the current position is the goal position.\n",
    "- `mark_visited(self, pos)`: Marks a cell at the specified position as visited.\n",
    "\n",
    "### Player Class\n",
    "\n",
    "- `__init__(self, start_pos)`: Initializes a new Player instance at the given start position.\n",
    "- `move(self, direction, maze)`: Moves the player in the given direction if possible. The maze is used to check for walls and boundaries.\n",
    "\n",
    "## Assignment Task\n",
    "\n",
    "Your task is to implement the `find_path` function using the Depth-First Search (DFS) algorithm. This function should return the path found as a list of positions (tuples), starting from the start position and ending at the goal position. If no path is found, it should return None.\n",
    "\n",
    "Utilize the methods provided by the Maze and Player classes to interact with the maze. You should not need to modify these classes or directly access the maze grid.\n",
    "\n",
    "Good luck, and remember to test your solution thoroughly!\n"
   ]
  },
  {
   "cell_type": "code",
   "execution_count": 2,
   "id": "smooth-lighter",
   "metadata": {},
   "outputs": [
    {
     "ename": "AttributeError",
     "evalue": "'Maze' object has no attribute 'undo_move'",
     "output_type": "error",
     "traceback": [
      "\u001b[0;31m---------------------------------------------------------------------------\u001b[0m",
      "\u001b[0;31mAttributeError\u001b[0m                            Traceback (most recent call last)",
      "\u001b[0;32m<ipython-input-2-322806a18dbc>\u001b[0m in \u001b[0;36m<module>\u001b[0;34m\u001b[0m\n\u001b[1;32m     35\u001b[0m \u001b[0;31m# Find path using DFS\u001b[0m\u001b[0;34m\u001b[0m\u001b[0;34m\u001b[0m\u001b[0;34m\u001b[0m\u001b[0m\n\u001b[1;32m     36\u001b[0m \u001b[0mvisited\u001b[0m \u001b[0;34m=\u001b[0m \u001b[0mset\u001b[0m\u001b[0;34m(\u001b[0m\u001b[0;34m)\u001b[0m\u001b[0;34m\u001b[0m\u001b[0;34m\u001b[0m\u001b[0m\n\u001b[0;32m---> 37\u001b[0;31m \u001b[0mpath\u001b[0m \u001b[0;34m=\u001b[0m \u001b[0mdfs\u001b[0m\u001b[0;34m(\u001b[0m\u001b[0mmaze\u001b[0m\u001b[0;34m,\u001b[0m \u001b[0mplayer\u001b[0m\u001b[0;34m,\u001b[0m \u001b[0mend_position\u001b[0m\u001b[0;34m,\u001b[0m \u001b[0mvisited\u001b[0m\u001b[0;34m)\u001b[0m\u001b[0;34m\u001b[0m\u001b[0;34m\u001b[0m\u001b[0m\n\u001b[0m\u001b[1;32m     38\u001b[0m \u001b[0;34m\u001b[0m\u001b[0m\n\u001b[1;32m     39\u001b[0m \u001b[0;31m# Display outcomes\u001b[0m\u001b[0;34m\u001b[0m\u001b[0;34m\u001b[0m\u001b[0;34m\u001b[0m\u001b[0m\n",
      "\u001b[0;32m<ipython-input-2-322806a18dbc>\u001b[0m in \u001b[0;36mdfs\u001b[0;34m(maze, player, goal, visited, path)\u001b[0m\n\u001b[1;32m     20\u001b[0m                     \u001b[0;32mreturn\u001b[0m \u001b[0mresult\u001b[0m\u001b[0;34m\u001b[0m\u001b[0;34m\u001b[0m\u001b[0m\n\u001b[1;32m     21\u001b[0m                 \u001b[0;31m# If the move to new_pos doesn't lead to a solution, backtrack\u001b[0m\u001b[0;34m\u001b[0m\u001b[0;34m\u001b[0m\u001b[0;34m\u001b[0m\u001b[0m\n\u001b[0;32m---> 22\u001b[0;31m                 \u001b[0mmaze\u001b[0m\u001b[0;34m.\u001b[0m\u001b[0mundo_move\u001b[0m\u001b[0;34m(\u001b[0m\u001b[0mplayer\u001b[0m\u001b[0;34m,\u001b[0m \u001b[0mcurrent_pos\u001b[0m\u001b[0;34m)\u001b[0m\u001b[0;34m\u001b[0m\u001b[0;34m\u001b[0m\u001b[0m\n\u001b[0m\u001b[1;32m     23\u001b[0m \u001b[0;34m\u001b[0m\u001b[0m\n\u001b[1;32m     24\u001b[0m     \u001b[0;32mreturn\u001b[0m \u001b[0;32mNone\u001b[0m  \u001b[0;31m# Backtrack if no path is found from current position\u001b[0m\u001b[0;34m\u001b[0m\u001b[0;34m\u001b[0m\u001b[0m\n",
      "\u001b[0;31mAttributeError\u001b[0m: 'Maze' object has no attribute 'undo_move'"
     ]
    }
   ],
   "source": [
    "from maze import Maze, Player\n",
    "\n",
    "def dfs(maze, player, goal, visited, path=[]):\n",
    "    current_pos = player.position\n",
    "    if current_pos == goal:\n",
    "        return path + [current_pos]\n",
    "\n",
    "    visited.add(current_pos)  # Mark the current cell as visited\n",
    "    possible_moves = maze.get_possible_moves(current_pos)\n",
    "    \n",
    "    for move in possible_moves:\n",
    "        new_pos = maze.get_new_position(current_pos, move)\n",
    "        if new_pos not in visited and maze.is_move_valid(current_pos, move):\n",
    "            player.position = new_pos  # Move player for visualization\n",
    "            result = dfs(maze, player, goal, visited, path + [current_pos])\n",
    "            if result:\n",
    "                return result\n",
    "            # No need to undo the move explicitly; just don't add to path if it leads to a dead end\n",
    "\n",
    "    return None  # Backtrack if no path is found from this position\n",
    "\n",
    "# Initialize the maze and player\n",
    "maze = Maze(20, 20)\n",
    "maze.generate_maze()\n",
    "\n",
    "# Set the start and goal positions\n",
    "start_position = (1, 1)\n",
    "end_position = (18, 18)\n",
    "player = Player(start_position)\n",
    "\n",
    "# Find path using DFS\n",
    "visited = set()\n",
    "path = dfs(maze, player, end_position, visited)\n",
    "\n",
    "# Display outcomes\n",
    "if path:\n",
    "    print(\"Path found:\", path)\n",
    "else:\n",
    "    print(\"No path found\")\n",
    "maze.display(player.position)\n",
    "\n"
   ]
  },
  {
   "cell_type": "code",
   "execution_count": null,
   "id": "organizational-fitness",
   "metadata": {},
   "outputs": [],
   "source": []
  }
 ],
 "metadata": {
  "kernelspec": {
   "display_name": "Python 3",
   "language": "python",
   "name": "python3"
  },
  "language_info": {
   "codemirror_mode": {
    "name": "ipython",
    "version": 3
   },
   "file_extension": ".py",
   "mimetype": "text/x-python",
   "name": "python",
   "nbconvert_exporter": "python",
   "pygments_lexer": "ipython3",
   "version": "3.6.9"
  }
 },
 "nbformat": 4,
 "nbformat_minor": 5
}
