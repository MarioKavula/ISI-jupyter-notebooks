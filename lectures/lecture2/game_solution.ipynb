{
 "cells": [
  {
   "cell_type": "markdown",
   "id": "faced-approval",
   "metadata": {},
   "source": [
    "# Maze Solver Assignment\n",
    "\n",
    "## Introduction\n",
    "In this assignment, you are tasked with implementing a pathfinding algorithm to solve a maze. The maze is represented as a grid of cells, where each cell can either be open (path) or blocked (wall). You will write an algorithm to find a path from the start position to the end position of the maze.\n",
    "\n",
    "## Core Library Documentation\n",
    "\n",
    "### Maze Class\n",
    "\n",
    "- `__init__(self, width, height)`: Initializes a new Maze instance with the given width and height.\n",
    "- `generate_maze(self)`: Generates a new random maze.\n",
    "- `display(self, player_pos=None)`: Displays the maze using matplotlib, optionally marking the player's position.\n",
    "- `get_possible_moves(self, current_pos)`: Returns a list of possible moves ('up', 'down', 'left', 'right') from the current position.\n",
    "- `move_player(self, player, direction)`: Attempts to move the player in the given direction and returns the new position. If the move is not valid, it returns the current position.\n",
    "- `is_move_valid(self, current_pos, direction)`: Checks if a move in a certain direction is valid from the current position.\n",
    "- `has_reached_goal(self, current_pos)`: Checks if the current position is the goal position.\n",
    "- `mark_visited(self, pos)`: Marks a cell at the specified position as visited.\n",
    "\n",
    "### Player Class\n",
    "\n",
    "- `__init__(self, start_pos)`: Initializes a new Player instance at the given start position.\n",
    "- `move(self, direction, maze)`: Moves the player in the given direction if possible. The maze is used to check for walls and boundaries.\n",
    "\n",
    "## Assignment Task\n",
    "\n",
    "Your task is to implement the `find_path` function using the Depth-First Search (DFS) algorithm. This function should return the path found as a list of positions (tuples), starting from the start position and ending at the goal position. If no path is found, it should return None.\n",
    "\n",
    "Utilize the methods provided by the Maze and Player classes to interact with the maze. You should not need to modify these classes or directly access the maze grid.\n",
    "\n",
    "Good luck, and remember to test your solution thoroughly!\n"
   ]
  },
  {
   "cell_type": "code",
   "execution_count": 3,
   "id": "smooth-lighter",
   "metadata": {},
   "outputs": [
    {
     "data": {
      "image/png": "[encoded data removed]",
      "text/plain": [
       "<Figure size 432x288 with 1 Axes>"
      ]
     },
     "metadata": {},
     "output_type": "display_data"
    },
    {
     "name": "stdout",
     "output_type": "stream",
     "text": [
      "Path found: [(2, 2), (3, 2), (4, 2), (4, 3), (4, 4), (4, 5), (4, 6), (3, 6), (2, 6), (2, 7), (2, 8), (2, 9), (2, 10), (2, 11), (2, 12), (3, 12), (4, 12), (4, 11), (4, 10), (5, 10), (6, 10), (6, 9), (6, 8), (7, 8), (8, 8), (8, 7), (8, 6), (7, 6), (6, 6), (6, 5), (6, 4), (6, 3), (6, 2), (7, 2), (8, 2), (9, 2), (10, 2), (11, 2), (12, 2), (12, 3), (12, 4), (11, 4), (10, 4), (10, 5), (10, 6), (10, 7), (10, 8), (11, 8), (12, 8), (12, 7), (12, 6), (13, 6), (14, 6), (14, 7), (14, 8), (14, 9), (14, 10), (15, 10), (16, 10), (16, 11), (16, 12), (15, 12), (14, 12), (13, 12), (12, 12), (11, 12), (10, 12), (9, 12), (8, 12), (7, 12), (6, 12), (6, 13), (6, 14), (7, 14), (8, 14), (9, 14), (10, 14), (11, 14), (12, 14), (12, 15), (12, 16), (12, 17), (12, 18), (13, 18), (14, 18), (15, 18), (16, 18), (16, 17), (16, 16), (15, 16), (14, 16), (14, 15), (14, 14), (15, 14), (16, 14), (17, 14), (18, 14), (18, 15), (18, 16), (18, 17), (18, 18)]\n"
     ]
    },
    {
     "data": {
      "image/png": "[encoded data removed]",
      "text/plain": [
       "<Figure size 432x288 with 1 Axes>"
      ]
     },
     "metadata": {},
     "output_type": "display_data"
    }
   ],
   "source": [
    "from maze import Maze, Player\n",
    "\n",
    "def dfs(maze, position, goal, visited):\n",
    "    if position == goal:\n",
    "        return [position]\n",
    "\n",
    "    visited.add(position)\n",
    "    possible_moves = maze.get_possible_moves(position)\n",
    "\n",
    "    for move in possible_moves:\n",
    "        new_x, new_y = position\n",
    "        if move == \"up\":\n",
    "            new_x -= 1\n",
    "        elif move == \"down\":\n",
    "            new_x += 1\n",
    "        elif move == \"left\":\n",
    "            new_y -= 1\n",
    "        elif move == \"right\":\n",
    "            new_y += 1\n",
    "\n",
    "        new_position = (new_x, new_y)\n",
    "\n",
    "        if new_position not in visited:\n",
    "            path = dfs(maze, new_position, goal, visited)\n",
    "            if path:\n",
    "                return [position] + path\n",
    "\n",
    "    return None\n",
    "\n",
    "# Example usage\n",
    "maze = Maze(20, 20)\n",
    "maze.generate_maze()\n",
    "player = Player(maze.start_pos)\n",
    "start_position = maze.start_pos\n",
    "end_position = maze.end_pos\n",
    "visited = set()\n",
    "\n",
    "maze.display(player.position)\n",
    "\n",
    "path = dfs(maze, start_position, end_position, visited)\n",
    "\n",
    "if path:\n",
    "    print(\"Path found:\", path)\n",
    "    for pos in path:\n",
    "        maze.mark_visited(pos)\n",
    "else:\n",
    "    print(\"No path found.\")\n",
    "\n",
    "maze.display(player.position)"
   ]
  },
  {
   "cell_type": "code",
   "execution_count": null,
   "id": "political-feeding",
   "metadata": {},
   "outputs": [],
   "source": []
  }
 ],
 "metadata": {
  "kernelspec": {
   "display_name": "Python 3",
   "language": "python",
   "name": "python3"
  },
  "language_info": {
   "codemirror_mode": {
    "name": "ipython",
    "version": 3
   },
   "file_extension": ".py",
   "mimetype": "text/x-python",
   "name": "python",
   "nbconvert_exporter": "python",
   "pygments_lexer": "ipython3",
   "version": "3.6.9"
  }
 },
 "nbformat": 4,
 "nbformat_minor": 5
}
