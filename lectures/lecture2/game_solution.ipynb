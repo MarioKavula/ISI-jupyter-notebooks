{
 "cells": [
  {
   "cell_type": "code",
   "execution_count": 3,
   "id": "north-exception",
   "metadata": {},
   "outputs": [
    {
     "ename": "AttributeError",
     "evalue": "'Player' object has no attribute 'move_opposite'",
     "output_type": "error",
     "traceback": [
      "\u001b[0;31m---------------------------------------------------------------------------\u001b[0m",
      "\u001b[0;31mAttributeError\u001b[0m                            Traceback (most recent call last)",
      "\u001b[0;32m<ipython-input-3-1ef432fb07ee>\u001b[0m in \u001b[0;36m<module>\u001b[0;34m\u001b[0m\n\u001b[1;32m     49\u001b[0m \u001b[0;34m\u001b[0m\u001b[0m\n\u001b[1;32m     50\u001b[0m \u001b[0;31m# Example setup, these parameters can be customized\u001b[0m\u001b[0;34m\u001b[0m\u001b[0;34m\u001b[0m\u001b[0;34m\u001b[0m\u001b[0m\n\u001b[0;32m---> 51\u001b[0;31m \u001b[0msetup_game\u001b[0m\u001b[0;34m(\u001b[0m\u001b[0;36m20\u001b[0m\u001b[0;34m,\u001b[0m \u001b[0;36m20\u001b[0m\u001b[0;34m,\u001b[0m \u001b[0;34m(\u001b[0m\u001b[0;36m1\u001b[0m\u001b[0;34m,\u001b[0m \u001b[0;36m1\u001b[0m\u001b[0;34m)\u001b[0m\u001b[0;34m,\u001b[0m \u001b[0;34m(\u001b[0m\u001b[0;36m18\u001b[0m\u001b[0;34m,\u001b[0m \u001b[0;36m18\u001b[0m\u001b[0;34m)\u001b[0m\u001b[0;34m)\u001b[0m\u001b[0;34m\u001b[0m\u001b[0;34m\u001b[0m\u001b[0m\n\u001b[0m",
      "\u001b[0;32m<ipython-input-3-1ef432fb07ee>\u001b[0m in \u001b[0;36msetup_game\u001b[0;34m(width, height, start_position, end_position)\u001b[0m\n\u001b[1;32m     35\u001b[0m \u001b[0;34m\u001b[0m\u001b[0m\n\u001b[1;32m     36\u001b[0m     \u001b[0;31m# Call DFS to find the path\u001b[0m\u001b[0;34m\u001b[0m\u001b[0;34m\u001b[0m\u001b[0;34m\u001b[0m\u001b[0m\n\u001b[0;32m---> 37\u001b[0;31m     \u001b[0mpath\u001b[0m \u001b[0;34m=\u001b[0m \u001b[0mdfs\u001b[0m\u001b[0;34m(\u001b[0m\u001b[0mmaze\u001b[0m\u001b[0;34m,\u001b[0m \u001b[0mplayer\u001b[0m\u001b[0;34m,\u001b[0m \u001b[0mstart_position\u001b[0m\u001b[0;34m,\u001b[0m \u001b[0mend_position\u001b[0m\u001b[0;34m)\u001b[0m\u001b[0;34m\u001b[0m\u001b[0;34m\u001b[0m\u001b[0m\n\u001b[0m\u001b[1;32m     38\u001b[0m \u001b[0;34m\u001b[0m\u001b[0m\n\u001b[1;32m     39\u001b[0m     \u001b[0;31m# Visualize the final path if one was found\u001b[0m\u001b[0;34m\u001b[0m\u001b[0;34m\u001b[0m\u001b[0;34m\u001b[0m\u001b[0m\n",
      "\u001b[0;32m<ipython-input-3-1ef432fb07ee>\u001b[0m in \u001b[0;36mdfs\u001b[0;34m(maze, player, current_pos, goal, path)\u001b[0m\n\u001b[1;32m     17\u001b[0m             \u001b[0mnew_position\u001b[0m \u001b[0;34m=\u001b[0m \u001b[0mplayer\u001b[0m\u001b[0;34m.\u001b[0m\u001b[0mposition\u001b[0m  \u001b[0;31m# Get the player's new position\u001b[0m\u001b[0;34m\u001b[0m\u001b[0;34m\u001b[0m\u001b[0m\n\u001b[1;32m     18\u001b[0m             \u001b[0;32mif\u001b[0m \u001b[0mnew_position\u001b[0m \u001b[0;32mnot\u001b[0m \u001b[0;32min\u001b[0m \u001b[0mpath\u001b[0m\u001b[0;34m:\u001b[0m\u001b[0;34m\u001b[0m\u001b[0;34m\u001b[0m\u001b[0m\n\u001b[0;32m---> 19\u001b[0;31m                 \u001b[0mresult\u001b[0m \u001b[0;34m=\u001b[0m \u001b[0mdfs\u001b[0m\u001b[0;34m(\u001b[0m\u001b[0mmaze\u001b[0m\u001b[0;34m,\u001b[0m \u001b[0mplayer\u001b[0m\u001b[0;34m,\u001b[0m \u001b[0mnew_position\u001b[0m\u001b[0;34m,\u001b[0m \u001b[0mgoal\u001b[0m\u001b[0;34m,\u001b[0m \u001b[0mpath\u001b[0m\u001b[0;34m)\u001b[0m\u001b[0;34m\u001b[0m\u001b[0;34m\u001b[0m\u001b[0m\n\u001b[0m\u001b[1;32m     20\u001b[0m                 \u001b[0;32mif\u001b[0m \u001b[0mresult\u001b[0m \u001b[0;32mis\u001b[0m \u001b[0;32mnot\u001b[0m \u001b[0;32mNone\u001b[0m\u001b[0;34m:\u001b[0m\u001b[0;34m\u001b[0m\u001b[0;34m\u001b[0m\u001b[0m\n\u001b[1;32m     21\u001b[0m                     \u001b[0;32mreturn\u001b[0m \u001b[0mresult\u001b[0m\u001b[0;34m\u001b[0m\u001b[0;34m\u001b[0m\u001b[0m\n",
      "\u001b[0;32m<ipython-input-3-1ef432fb07ee>\u001b[0m in \u001b[0;36mdfs\u001b[0;34m(maze, player, current_pos, goal, path)\u001b[0m\n\u001b[1;32m     21\u001b[0m                     \u001b[0;32mreturn\u001b[0m \u001b[0mresult\u001b[0m\u001b[0;34m\u001b[0m\u001b[0;34m\u001b[0m\u001b[0m\n\u001b[1;32m     22\u001b[0m             \u001b[0;31m# Move the player back to the previous position if the new position was not on the correct path\u001b[0m\u001b[0;34m\u001b[0m\u001b[0;34m\u001b[0m\u001b[0;34m\u001b[0m\u001b[0m\n\u001b[0;32m---> 23\u001b[0;31m             \u001b[0mplayer\u001b[0m\u001b[0;34m.\u001b[0m\u001b[0mmove_opposite\u001b[0m\u001b[0;34m(\u001b[0m\u001b[0mdirection\u001b[0m\u001b[0;34m,\u001b[0m \u001b[0mmaze\u001b[0m\u001b[0;34m)\u001b[0m\u001b[0;34m\u001b[0m\u001b[0;34m\u001b[0m\u001b[0m\n\u001b[0m\u001b[1;32m     24\u001b[0m \u001b[0;34m\u001b[0m\u001b[0m\n\u001b[1;32m     25\u001b[0m     \u001b[0;31m# Backtrack if no valid moves are available\u001b[0m\u001b[0;34m\u001b[0m\u001b[0;34m\u001b[0m\u001b[0;34m\u001b[0m\u001b[0m\n",
      "\u001b[0;31mAttributeError\u001b[0m: 'Player' object has no attribute 'move_opposite'"
     ]
    }
   ],
   "source": [
    "from maze import Maze, Player\n",
    "import matplotlib.pyplot as plt\n",
    "\n",
    "def dfs(maze, player, current_pos, goal, path=[]):\n",
    "    # Mark the current position as visited\n",
    "    path.append(current_pos)\n",
    "    maze.mark_visited(current_pos)\n",
    "\n",
    "    # Check if the current position is the goal\n",
    "    if current_pos == goal:\n",
    "        return path\n",
    "\n",
    "    # Explore neighboring positions (up, down, left, right)\n",
    "    for direction in [\"up\", \"down\", \"left\", \"right\"]:\n",
    "        # Attempt to move the player in the specified direction\n",
    "        if player.move(direction, maze):\n",
    "            new_position = player.position  # Get the player's new position\n",
    "            if new_position not in path:\n",
    "                result = dfs(maze, player, new_position, goal, path)\n",
    "                if result is not None:\n",
    "                    return result\n",
    "            # Move the player back to the previous position if the new position was not on the correct path\n",
    "            player.move_opposite(direction, maze)\n",
    "\n",
    "    # Backtrack if no valid moves are available\n",
    "    path.pop()\n",
    "    return None\n",
    "\n",
    "# Modify the setup_game function to include the DFS call\n",
    "def setup_game(width, height, start_position, end_position):\n",
    "    # Initialize the maze and player\n",
    "    maze = Maze(width, height)\n",
    "    maze.generate_maze()\n",
    "    player = Player(start_position)\n",
    "    \n",
    "    # Call DFS to find the path\n",
    "    path = dfs(maze, player, start_position, end_position)\n",
    "\n",
    "    # Visualize the final path if one was found\n",
    "    if path:\n",
    "        print(\"Path found:\", path)\n",
    "        for pos in path:\n",
    "            maze.mark_visited(pos)\n",
    "    else:\n",
    "        print(\"No path found\")\n",
    "\n",
    "    # Display the final state of the maze with the path\n",
    "    maze.display(player.position)\n",
    "\n",
    "# Example setup, these parameters can be customized\n",
    "setup_game(20, 20, (1, 1), (18, 18))"
   ]
  },
  {
   "cell_type": "code",
   "execution_count": null,
   "id": "reliable-forestry",
   "metadata": {},
   "outputs": [],
   "source": []
  }
 ],
 "metadata": {
  "kernelspec": {
   "display_name": "Python 3",
   "language": "python",
   "name": "python3"
  },
  "language_info": {
   "codemirror_mode": {
    "name": "ipython",
    "version": 3
   },
   "file_extension": ".py",
   "mimetype": "text/x-python",
   "name": "python",
   "nbconvert_exporter": "python",
   "pygments_lexer": "ipython3",
   "version": "3.6.9"
  }
 },
 "nbformat": 4,
 "nbformat_minor": 5
}
