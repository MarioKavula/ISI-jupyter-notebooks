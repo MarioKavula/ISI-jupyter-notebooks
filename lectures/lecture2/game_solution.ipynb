{
 "cells": [
  {
   "cell_type": "markdown",
   "id": "faced-approval",
   "metadata": {},
   "source": [
    "# Maze Solver Assignment\n",
    "\n",
    "## Introduction\n",
    "In this assignment, you are tasked with implementing a pathfinding algorithm to solve a maze. The maze is represented as a grid of cells, where each cell can either be open (path) or blocked (wall). You will write an algorithm to find a path from the start position to the end position of the maze.\n",
    "\n",
    "## Core Library Documentation\n",
    "\n",
    "### Maze Class\n",
    "\n",
    "- `__init__(self, width, height)`: Initializes a new Maze instance with the given width and height.\n",
    "- `generate_maze(self)`: Generates a new random maze.\n",
    "- `display(self, player_pos=None)`: Displays the maze using matplotlib, optionally marking the player's position.\n",
    "- `get_possible_moves(self, current_pos)`: Returns a list of possible moves ('up', 'down', 'left', 'right') from the current position.\n",
    "- `move_player(self, player, direction)`: Attempts to move the player in the given direction and returns the new position. If the move is not valid, it returns the current position.\n",
    "- `is_move_valid(self, current_pos, direction)`: Checks if a move in a certain direction is valid from the current position.\n",
    "- `has_reached_goal(self, current_pos)`: Checks if the current position is the goal position.\n",
    "- `mark_visited(self, pos)`: Marks a cell at the specified position as visited.\n",
    "\n",
    "### Player Class\n",
    "\n",
    "- `__init__(self, start_pos)`: Initializes a new Player instance at the given start position.\n",
    "- `move(self, direction, maze)`: Moves the player in the given direction if possible. The maze is used to check for walls and boundaries.\n",
    "\n",
    "## Assignment Task\n",
    "\n",
    "Your task is to implement the `find_path` function using the Depth-First Search (DFS) algorithm. This function should return the path found as a list of positions (tuples), starting from the start position and ending at the goal position. If no path is found, it should return None.\n",
    "\n",
    "Utilize the methods provided by the Maze and Player classes to interact with the maze. You should not need to modify these classes or directly access the maze grid.\n",
    "\n",
    "Good luck, and remember to test your solution thoroughly!\n"
   ]
  },
  {
   "cell_type": "code",
   "execution_count": 6,
   "id": "smooth-lighter",
   "metadata": {},
   "outputs": [
    {
     "name": "stdout",
     "output_type": "stream",
     "text": [
      "No path found.\n"
     ]
    },
    {
     "data": {
      "image/png": "[encoded data removed]",
      "text/plain": [
       "<Figure size 432x288 with 1 Axes>"
      ]
     },
     "metadata": {},
     "output_type": "display_data"
    }
   ],
   "source": [
    "from maze import Maze, Player\n",
    "\n",
    "def dfs(maze, player, goal, visited=set()):\n",
    "    # Mark the current position as visited\n",
    "    current_pos = player.position\n",
    "    maze.mark_visited(current_pos)\n",
    "    visited.add(current_pos)\n",
    "\n",
    "    # Check if the current position is the goal\n",
    "    if maze.has_reached_goal(current_pos):\n",
    "        return True\n",
    "\n",
    "    # Explore possible moves from the current position\n",
    "    for move in maze.get_possible_moves(current_pos):\n",
    "        # Calculate the new position based on the current position and the move direction\n",
    "        x, y = current_pos\n",
    "        if move == \"up\":\n",
    "            new_pos = (x - 1, y)\n",
    "        elif move == \"down\":\n",
    "            new_pos = (x + 1, y)\n",
    "        elif move == \"left\":\n",
    "            new_pos = (x, y - 1)\n",
    "        elif move == \"right\":\n",
    "            new_pos = (x, y + 1)\n",
    "        \n",
    "        # If the new position has not been visited, attempt to move the player\n",
    "        if new_pos not in visited:\n",
    "            player.position = new_pos  # Update the player's position\n",
    "            if dfs(maze, player, goal, visited):\n",
    "                return True\n",
    "            # If moving to the new position did not lead to a solution, backtrack\n",
    "            player.position = current_pos  # Revert the player's position\n",
    "\n",
    "    # If none of the moves lead to the goal, return False\n",
    "    return False\n",
    "\n",
    "\n",
    "# Setup the maze and player\n",
    "maze = Maze(20, 20)\n",
    "maze.generate_maze()\n",
    "player = Player(maze.start_pos)\n",
    "\n",
    "# Run DFS to find a path from start to goal\n",
    "if dfs(maze, player, maze.end_pos):\n",
    "    print(\"A path has been found!\")\n",
    "else:\n",
    "    print(\"No path found.\")\n",
    "\n",
    "# Display the maze after attempting to solve\n",
    "maze.display(player.position)\n",
    "\n"
   ]
  },
  {
   "cell_type": "code",
   "execution_count": null,
   "id": "organizational-fitness",
   "metadata": {},
   "outputs": [],
   "source": []
  }
 ],
 "metadata": {
  "kernelspec": {
   "display_name": "Python 3",
   "language": "python",
   "name": "python3"
  },
  "language_info": {
   "codemirror_mode": {
    "name": "ipython",
    "version": 3
   },
   "file_extension": ".py",
   "mimetype": "text/x-python",
   "name": "python",
   "nbconvert_exporter": "python",
   "pygments_lexer": "ipython3",
   "version": "3.6.9"
  }
 },
 "nbformat": 4,
 "nbformat_minor": 5
}
