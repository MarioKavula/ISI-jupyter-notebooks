{
 "cells": [
  {
   "cell_type": "markdown",
   "id": "faced-approval",
   "metadata": {},
   "source": [
    "# DFS v grafoch\n",
    "\n",
    "Hľadanie do hĺbky (DFS - Depth First Search) je základný algoritmus na prehľadávanie alebo prechádzanie stromov alebo grafov. DFS preskúma vetvu grafu tak hlboko, ako je to možné, predtým, ako sa vráti späť, aby preskúmal ďalšie vetvy. Algoritmus DFS sa široko používa v informatike pre rôzne účely, od hľadania cesty v labyrinte po analýzu sietí.\n",
    "\n",
    "## Fungovanie DFS na príklade grafu\n",
    "\n",
    "V nasledujúcej časti sa pozrieme na animovaný príklad, ktorý nám ilustruje, ako algoritmus DFS postupuje pri prehľadávaní grafu. GIF, ktorý vidíte, ukazuje graf s vrcholmi označenými číslami od 0 po 8 a orientovanými hranami, ktoré ich spájajú.\n",
    "\n",
    "Pri DFS algoritme začíname od zdrojového vrcholu (v tomto prípade vrchol 0) a postupujeme hĺbkovo do grafu, čo znamená, že skôr ako prejdeme k inému susedovi, najskôr navštívime jedného suseda vrcholu a pokračujeme v tejto vetve tak hlboko, ako je to možné. Až keď dosiahneme vrchol, z ktorého už nemôžeme ďalej pokračovať (tento vrchol nemá nenavštívených susedov alebo vychádzajúce hrany), vrátime sa späť a skúmame ďalšie vetvy grafu. Tento proces pokračuje, kým nie sú všetky vrcholy označené ako navštívené.\n",
    "\n",
    "![SegmentLocal](data/dfs.gif \"segment\")\n",
    "\n",
    "### Kroky algoritmu na animácii:\n",
    "1. Začíname pri vrchole 0, ktorý je našim počiatočným vrcholom.\n",
    "2. Postupujeme k vrcholu 1, keďže je to prvý nenavštívený sused vrcholu 0.\n",
    "3. Z vrcholu 1 pokračujeme k vrcholu 4, pretože je to jediný nenavštívený sused.\n",
    "4. Keďže vrchol 4 nemá ďalších nenavštívených susedov, vraciame sa späť k vrcholu 1 a potom k vrcholu 0, pretože ani jeden nemá ďalších nenavštívených susedov.\n",
    "5. Z vrcholu 0 ideme k vrcholu 2, potom k vrcholu 5.\n",
    "6. Vrchol 5 má dvoch susedov - 7 a 8. Navštívime vrchol 7 a následne vrchol 8.\n",
    "7. Vraciame sa späť k vrcholu 5 a potom k vrcholu 2, keďže sme už navštívili všetkých ich susedov.\n",
    "8. Nakoniec, z vrcholu 2 pokračujeme k vrcholu 3 a potom k vrcholu 6, čím sme navštívili všetky vrcholy grafu.\n",
    "\n",
    "Na konci tohto procesu sme každý vrchol navštívili práve raz a preskúmali všetky možné cesty v rámci grafu. Táto metóda hľadania je veľmi efektívna pre rôzne aplikácie, ako napríklad hľadanie cesty v labyrinte, kontrolu dosiahnuteľnosti v sieti alebo pri riešení problémov, ktoré vyžadujú systematické prehľadanie všetkých možností, ako napríklad generovanie permutácií alebo kombinácií.\n",
    "\n",
    "### DFS algoritmus\n",
    "\n",
    "Pseudokód pre DFS:\n",
    "\n",
    "```plaintext\n",
    "DFS(uzol):\n",
    "    mark uzol as navštívený\n",
    "    for each uzol in zoznam susedov of uzla:\n",
    "        if susedný uzol is not navštívený:\n",
    "            rekurzívne vykonaj DFS(sused)\n",
    "```\n",
    "\n",
    "Tento algoritmus používa rekurziu na prechádzanie grafu hĺbkovo.\n",
    "\n",
    "## Zadanie Maze solver\n",
    "\n",
    "Pre lepšie pochopenie fungovania DFS si tento algoritmus skúsite implementovať a použiť na nájdenie cesty v bludisku. Bludisko máte už predpripravené a môžete na zostavenie Vášho algoritmu použiť triedy a metódy z knižnice maze.\n",
    "\n",
    "### Trieda Maze\n",
    "\n",
    "- `__init__(self, width, height)`: Inicializuje novú inštanciu bludiska s danou šírkou a výškou.\n",
    "- `generate_maze(self)`: Vygeneruje nové náhodné bludisko.\n",
    "- `display(self, player_pos=None)`: Zobrazí bludisko pomocou matplotlib a voliteľne označí polohu hráča.\n",
    "- `get_possible_moves(self, current_pos)`: Vráti zoznam možných pohybov ('up', 'down', 'left', 'right') z aktuálnej pozície.\n",
    "- `move_player(self, player, direction)`: Pokúsi sa presunúť hráča daným smerom a vráti novú pozíciu. Ak pohyb nie je platný, vráti aktuálnu pozíciu.\n",
    "- `is_move_valid(self, current_pos, direction)`: Skontroluje, či je pohyb v určitom smere z aktuálnej pozície platný.\n",
    "- `has_reached_goal(self, current_pos)`: Skontroluje, či je aktuálna pozícia cieľovou pozíciou.\n",
    "- `mark_visited(self, pos)`: Označí bunku na zadanej pozícii ako navštívenú.\n",
    "\n",
    "### Trieda Player\n",
    "\n",
    "- `__init__(self, start_pos)`: Inicializuje novú inštanciu hráča na zadanej počiatočnej pozícii.\n",
    "- `move(self, direction, maze)`: Presunie hráča daným smerom, ak je to možné. Bludisko sa používa na kontrolu stien a hraníc.\n",
    "\n",
    "## Vaša úloha\n",
    "\n",
    "Vašou úlohou je implementovať funkciu `dfs` pomocou algoritmu DFS (Depth-First Search). Táto funkcia by mala vrátiť nájdenú cestu ako zoznam pozícií (tuples), začínajúci od počiatočnej pozície a končiaci v cieľovej pozícii. Ak sa nenájde žiadna cesta, mala by vrátiť hodnotu False.\n",
    "\n",
    "Na interakciu s bludiskom použite metódy, ktoré poskytujú triedy Maze a Player. Nemali by ste potrebovať modifikovať tieto triedy ani priamo pristupovať k štruktúre bludiska.\n",
    "\n",
    "Veľa šťastia a nezabudnite svoje riešenie dôkladne otestovať!\n"
   ]
  },
  {
   "cell_type": "code",
   "execution_count": 5,
   "id": "smooth-lighter",
   "metadata": {},
   "outputs": [
    {
     "data": {
      "image/png": "[encoded data removed]",
      "text/plain": [
       "<Figure size 432x288 with 1 Axes>"
      ]
     },
     "metadata": {},
     "output_type": "display_data"
    },
    {
     "name": "stdout",
     "output_type": "stream",
     "text": [
      "Path found: [(2, 2), (3, 2), (4, 2), (4, 3), (4, 4), (4, 5), (4, 6), (3, 6), (2, 6), (2, 7), (2, 8), (2, 9), (2, 10), (2, 11), (2, 12), (2, 13), (2, 14), (3, 14), (4, 14), (4, 15), (4, 16), (4, 17), (4, 18), (5, 18), (6, 18), (7, 18), (8, 18), (8, 17), (8, 16), (9, 16), (10, 16), (11, 16), (12, 16), (12, 17), (12, 18), (13, 18), (14, 18), (14, 17), (14, 16), (14, 15), (14, 14), (14, 13), (14, 12), (15, 12), (16, 12), (16, 13), (16, 14), (17, 14), (18, 14), (18, 15), (18, 16), (18, 17), (18, 18)]\n"
     ]
    },
    {
     "data": {
      "image/png": "[encoded data removed]",
      "text/plain": [
       "<Figure size 432x288 with 1 Axes>"
      ]
     },
     "metadata": {},
     "output_type": "display_data"
    }
   ],
   "source": [
    "from maze import Maze, Player\n",
    "\n",
    "def dfs(maze, position, goal, visited):\n",
    "    # Placeholder for pathfinding algorithm implementation\n",
    "    # Please, implement your pathfinding algorithm here\n",
    "    if position == goal:\n",
    "        return [position]\n",
    "\n",
    "    visited.add(position)\n",
    "    possible_moves = maze.get_possible_moves(position)\n",
    "\n",
    "    for move in possible_moves:\n",
    "        new_x, new_y = position\n",
    "        if move == \"up\":\n",
    "            new_x -= 1\n",
    "        elif move == \"down\":\n",
    "            new_x += 1\n",
    "        elif move == \"left\":\n",
    "            new_y -= 1\n",
    "        elif move == \"right\":\n",
    "            new_y += 1\n",
    "\n",
    "        new_position = (new_x, new_y)\n",
    "\n",
    "        if new_position not in visited:\n",
    "            path = dfs(maze, new_position, goal, visited)\n",
    "            if path:\n",
    "                return [position] + path\n",
    "\n",
    "    return None\n",
    "\n",
    "# Example usage\n",
    "maze = Maze(20, 20)\n",
    "maze.generate_maze()\n",
    "player = Player(maze.start_pos)\n",
    "start_position = maze.start_pos\n",
    "end_position = maze.end_pos\n",
    "visited = set()\n",
    "\n",
    "maze.display(player.position)\n",
    "\n",
    "path = dfs(maze, start_position, end_position, visited)\n",
    "\n",
    "if path:\n",
    "    print(\"Path found:\", path)\n",
    "    for pos in path:\n",
    "        maze.mark_visited(pos)\n",
    "else:\n",
    "    print(\"No path found.\")\n",
    "\n",
    "maze.display(player.position)"
   ]
  },
  {
   "cell_type": "code",
   "execution_count": null,
   "id": "nearby-merchant",
   "metadata": {},
   "outputs": [],
   "source": []
  }
 ],
 "metadata": {
  "kernelspec": {
   "display_name": "Python 3",
   "language": "python",
   "name": "python3"
  },
  "language_info": {
   "codemirror_mode": {
    "name": "ipython",
    "version": 3
   },
   "file_extension": ".py",
   "mimetype": "text/x-python",
   "name": "python",
   "nbconvert_exporter": "python",
   "pygments_lexer": "ipython3",
   "version": "3.6.9"
  }
 },
 "nbformat": 4,
 "nbformat_minor": 5
}
