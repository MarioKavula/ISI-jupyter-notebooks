{
 "cells": [
  {
   "cell_type": "markdown",
   "id": "d4e589f9",
   "metadata": {},
   "source": [
    "# Depth-First Search (DFS) in Graphs\n",
    "\n",
    "This notebook provides an in-depth exploration of the Depth-First Search (DFS) algorithm, its applications in graph theory, and practical Python implementations. Through a combination of theoretical explanations and hands-on coding exercises, we aim to deepen your understanding of DFS and its utility in computational problems involving graphs."
   ]
  },
  {
   "cell_type": "markdown",
   "id": "88d792b5",
   "metadata": {},
   "source": [
    "## Theoretical Foundation of DFS\n",
    "\n",
    "DFS is a fundamental algorithm used for graph traversal or tree search. It starts at a root node and explores as far as possible along each branch before backtracking. This section discusses the algorithm's logic, its applications, and compares it with the Breadth-First Search (BFS) to highlight their differences."
   ]
  },
  {
   "cell_type": "markdown",
   "id": "19469061",
   "metadata": {},
   "source": [
    "### DFS Algorithm Explained\n",
    "\n",
    "Here is the pseudocode for DFS:\n",
    "\n",
    "```\n",
    "DFS-Visit(node):\n",
    "  mark node as visited\n",
    "  for each neighbor of node:\n",
    "    if neighbor is not visited:\n",
    "      DFS-Visit(neighbor)\n",
    "```\n",
    "\n",
    "The algorithm employs recursion to explore graph nodes depth-first. Let's implement this in Python next."
   ]
  },
  {
   "cell_type": "code",
   "execution_count": null,
   "id": "d2c2bace",
   "metadata": {},
   "outputs": [],
   "source": [
    "def dfs(graph, start, visited=None):\n",
    "    if visited is None:\n",
    "        visited = set()\n",
    "    visited.add(start)\n",
    "    print(f\"Visited: {start}\")\n",
    "    for next in graph[start] - visited:\n",
    "        dfs(graph, next, visited)\n",
    "    return visited\n",
    "\n",
    "# Sample graph represented as a dictionary\n",
    "graph = {\n",
    "    'A': {'B', 'C'},\n",
    "    'B': {'A', 'D', 'E'},\n",
    "    'C': {'A', 'F'},\n",
    "    'D': {'B'},\n",
    "    'E': {'B', 'F'},\n",
    "    'F': {'C', 'E'}\n",
    "}\n",
    "\n",
    "# Execute DFS\n",
    "dfs(graph, 'A')"
   ]
  },
  {
   "cell_type": "markdown",
   "id": "b2f36ea3",
   "metadata": {},
   "source": [
    "## Exploring Graph Features with DFS\n",
    "\n",
    "DFS is not only useful for simple traversal; it's also a powerful tool for exploring various features of graphs such as detecting cycles, finding paths, and identifying connected components. We'll explore how to leverage DFS for these applications."
   ]
  },
  {
   "cell_type": "markdown",
   "id": "b34bc703",
   "metadata": {},
   "source": [
    "### Advanced Applications of DFS\n",
    "\n",
    "One of the advanced applications of DFS is in cycle detection in directed graphs. Let's see how we can modify our DFS implementation to detect cycles."
   ]
  },
  {
   "cell_type": "code",
   "execution_count": null,
   "id": "2581b1a2",
   "metadata": {},
   "outputs": [],
   "source": [
    "def dfs_cycle_detection(graph, node, visited=None, rec_stack=None):\n",
    "    if visited is None:\n",
    "        visited = set()\n",
    "    if rec_stack is None:\n",
    "        rec_stack = set()\n",
    "    visited.add(node)\n",
    "    rec_stack.add(node)\n",
    "    for neighbour in graph[node]:\n",
    "        if neighbour not in visited:\n",
    "            if dfs_cycle_detection(graph, neighbour, visited, rec_stack):\n",
    "                return True\n",
    "        elif neighbour in rec_stack:\n",
    "            return True\n",
    "    rec_stack.remove(node)\n",
    "    return False\n",
    "\n",
    "# Check for cycle\n",
    "print(\"Cycle detected:\" , dfs_cycle_detection(graph, 'A'))"
   ]
  },
  {
   "cell_type": "markdown",
   "id": "cbe85b86",
   "metadata": {},
   "source": [
    "## Complexity Analysis\n",
    "\n",
    "The time complexity of DFS is \\(O(V + E)\\) for an adjacency list representation, where \\(V\\) is the number of vertices and \\(E\\) is the number of edges. The space complexity is \\(O(V)\\) due to the storage of visited nodes. This section discusses how the complexity is derived and what factors influence DFS performance."
   ]
  },
  {
   "cell_type": "markdown",
   "id": "602d5c27",
   "metadata": {},
   "source": [
    "## Practical Exercises\n",
    "\n",
    "1. Implement DFS for a graph represented as an adjacency matrix.\n",
    "2. Modify the DFS implementation to return all paths between two given nodes.\n",
    "3. Use DFS to solve a simple maze represented as a 2D array.\n",
    "\n",
    "These exercises aim to reinforce the concepts discussed and provide hands-on experience with DFS in various scenarios."
   ]
  },
  {
   "cell_type": "markdown",
   "id": "471022b0",
   "metadata": {},
   "source": [
    "## Summary\n",
    "\n",
    "This notebook covered the Depth-First Search (DFS) algorithm extensively, from theoretical foundations to practical Python implementations and advanced applications. The exercises provided offer an opportunity to apply DFS in solving complex graph-based problems, enhancing your problem-solving skills and understanding of graph algorithms."
   ]
  }
 ],
 "metadata": {
  "kernelspec": {
   "display_name": "Python 3",
   "language": "python",
   "name": "python3"
  },
  "language_info": {
   "name": "python",
   "version": "3.8.5"
  },
  "title": "Depth-First Search (DFS) Exploration"
 },
 "nbformat": 4,
 "nbformat_minor": 5
}
