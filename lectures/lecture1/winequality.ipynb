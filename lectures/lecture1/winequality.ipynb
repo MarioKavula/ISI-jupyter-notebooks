{
 "cells": [
  {
   "cell_type": "markdown",
   "metadata": {},
   "source": [
    "# Predikcia kvality vína\n",
    "V tomto cvičení preskúmame, ako použiť strojové učenie na predikciu kvality vína na základe jeho chemických vlastností. Prejdeme si základné kroky pracovného postupu strojového učenia vrátane načítania dát, predspracovania, trénovania modelu a hodnotenia.\n",
    "\n",
    "## Časť 1: Načítanie dát\n",
    "Najprv musíme načítať náš dataset. Použijeme dataset kvality vína, ktorý obsahuje chemické vlastnosti vína a hodnotenie kvality."
   ]
  },
  {
   "cell_type": "code",
   "execution_count": null,
   "metadata": {},
   "outputs": [],
   "source": [
    "# Import necessary libraries\n",
    "import pandas as pd\n",
    "import numpy as np\n",
    "import matplotlib.pyplot as plt\n",
    "import seaborn as sns\n",
    "from sklearn.model_selection import train_test_split\n",
    "from sklearn.preprocessing import StandardScaler\n",
    "from sklearn.ensemble import RandomForestClassifier\n",
    "from sklearn.metrics import accuracy_score, classification_report\n",
    "from sklearn.linear_model import LogisticRegression\n",
    "\n",
    "# Part 1: Data Loading\n",
    "wine_data = pd.read_csv('data/winequality-red.csv')\n",
    "\n",
    "# Display the first 5 rows of the dataset\n",
    "print(wine_data.head())"
   ]
  },
  {
   "cell_type": "markdown",
   "metadata": {},
   "source": [
    "## Časť 2: Prieskum dát\n",
    "Predtým, než pokračujeme s predspracovaním, trochu preskúmajme náš dataset."
   ]
  },
  {
   "cell_type": "code",
   "execution_count": null,
   "metadata": {},
   "outputs": [],
   "source": [
    "# Part 2: Data Exploration\n",
    "wine_data.info()\n",
    "plt.figure(figsize=(10, 6))\n",
    "sns.countplot(x='quality', data=wine_data)\n",
    "plt.title('Distribution of Wine Quality')\n",
    "plt.show()"
   ]
  },
  {
   "cell_type": "markdown",
   "metadata": {},
   "source": [
    "## Časť 3: Predspracovanie dát\n",
    "### Riešenie chýbajúcich hodnôt\n",
    "Najprv skontrolujeme chýbajúce hodnoty a zaoberáme sa nimi, ak nejaké sú."
   ]
  },
  {
   "cell_type": "code",
   "execution_count": null,
   "metadata": {},
   "outputs": [],
   "source": [
    "# Part 3: Data Preprocessing\n",
    "# Check for missing values\n",
    "print(wine_data.isnull().sum())\n",
    "\n",
    "# No missing values in this dataset, but if there were, you would handle them here\n",
    "\n",
    "# Feature Scaling\n",
    "X = wine_data.drop('quality', axis=1)\n",
    "y = wine_data['quality']\n",
    "\n",
    "scaler = StandardScaler()\n",
    "X_scaled = scaler.fit_transform(X)"
   ]
  },
  {
   "cell_type": "markdown",
   "metadata": {},
   "source": [
    "## Časť 4: Rozdelenie datasetu\n",
    "Rozdelíme dataset na trénovaciu a testovaciu množinu."
   ]
  },
  {
   "cell_type": "code",
   "execution_count": null,
   "metadata": {},
   "outputs": [],
   "source": [
    "# Part 4: Splitting the Dataset\n",
    "X_train, X_test, y_train, y_test = train_test_split(X_scaled, y, test_size=0.2, random_state=42)"
   ]
  },
  {
   "cell_type": "markdown",
   "metadata": {},
   "source": [
    "## Časť 5: Trénovanie modelu\n",
    "Použijeme model Random Forest na predikciu kvality vína."
   ]
  },
  {
   "cell_type": "code",
   "execution_count": null,
   "metadata": {},
   "outputs": [],
   "source": [
    "# Part 5: Model Training (Random Forest)\n",
    "model_rf = RandomForestClassifier(random_state=42)\n",
    "model_rf.fit(X_train, y_train)\n",
    "\n",
    "# Training score\n",
    "print(\"Training Accuracy (Random Forest):\", model_rf.score(X_train, y_train))"
   ]
  },
  {
   "cell_type": "markdown",
   "metadata": {},
   "source": [
    "## Časť 6: Hodnotenie modelu\n",
    "Nakoniec, poďme hodnotiť náš model na testovacej množine."
   ]
  },
  {
   "cell_type": "code",
   "execution_count": null,
   "metadata": {},
   "outputs": [],
   "source": [
    "# Part 6: Model Evaluation (Random Forest)\n",
    "y_pred_rf = model_rf.predict(X_test)\n",
    "print(\"Accuracy (Random Forest):\", accuracy_score(y_test, y_pred_rf))\n",
    "print(\"\\nClassification Report (Random Forest):\\n\", classification_report(y_test, y_pred_rf))"
   ]
  },
  {
   "cell_type": "markdown",
   "metadata": {},
   "source": [
    "## Časť 7: Experimentovanie a záver\n",
    "Skúste rôzne strojové učenie modely, techniky predspracovania alebo metódy inžinierstva prvkov na zlepšenie výkonnosti modelu."
   ]
  },
  {
   "cell_type": "code",
   "execution_count": null,
   "metadata": {},
   "outputs": [],
   "source": [
    "# Trying another model for comparison: Logistic Regression\n",
    "model_lr = LogisticRegression(max_iter=10000, random_state=42)\n",
    "model_lr.fit(X_train, y_train)\n",
    "\n",
    "# Training score\n",
    "print(\"Training Accuracy (Logistic Regression):\", model_lr.score(X_train, y_train))\n",
    "\n",
    "# Model Evaluation (Logistic Regression)\n",
    "y_pred_lr = model_lr.predict(X_test)\n",
    "print(\"Accuracy (Logistic Regression):\", accuracy_score(y_test, y_pred_lr))\n",
    "print(\"\\nClassification Report (Logistic Regression):\\n\", classification_report(y_test, y_pred_lr))"
   ]
  }
 ],
 "metadata": {
  "kernelspec": {
   "display_name": "Python 3",
   "language": "python",
   "name": "python3"
  },
  "language_info": {
   "codemirror_mode": {
    "name": "ipython",
    "version": 3
   },
   "file_extension": ".py",
   "mimetype": "text/x-python",
   "name": "python",
   "nbconvert_exporter": "python",
   "pygments_lexer": "ipython3",
   "version": "3.6.9"
  }
 },
 "nbformat": 4,
 "nbformat_minor": 5
}
