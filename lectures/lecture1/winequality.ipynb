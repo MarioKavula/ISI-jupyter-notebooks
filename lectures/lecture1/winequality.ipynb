{
 "cells": [
  {
   "cell_type": "markdown",
   "id": "transparent-impossible",
   "metadata": {},
   "source": [
    "# Predikcia kvality vína\n",
    "V tomto cvičení preskúmame, ako použiť strojové učenie na predikciu kvality vína na základe jeho chemických vlastností. Prejdeme si základné kroky pracovného postupu strojového učenia vrátane načítania dát, predspracovania, trénovania modelu a hodnotenia.\n",
    "\n",
    "## Časť 1: Načítanie dát\n",
    "Najprv musíme načítať náš dataset. Použijeme dataset kvality vína, ktorý obsahuje chemické vlastnosti vína a hodnotenie kvality.\n",
    "\n",
    "Hint: Pri načítaní dát použite knižnicu Pandas. Funkcia read_csv je užitočná na načítanie dát z CSV súborov."
   ]
  },
  {
   "cell_type": "code",
   "execution_count": 2,
   "id": "important-letter",
   "metadata": {},
   "outputs": [],
   "source": [
    "import pandas as pd\n",
    "\n",
    "# Načítanie datasetu\n",
    "wine_data = pd.read_csv('data/winequality-red.csv', sep=';')"
   ]
  },
  {
   "cell_type": "markdown",
   "id": "approved-basement",
   "metadata": {},
   "source": [
    "Úloha: Zobrazte prvých 5 riadkov datasetu, aby ste pochopili jeho štruktúru. Použite `wine_data.head()`.\n",
    "\n",
    "## Časť 2: Prieskum dát\n",
    "Predtým, než pokračujeme s predspracovaním, trochu preskúmajme náš dataset."
   ]
  },
  {
   "cell_type": "code",
   "execution_count": 3,
   "id": "rational-spectacular",
   "metadata": {},
   "outputs": [
    {
     "name": "stdout",
     "output_type": "stream",
     "text": [
      "<class 'pandas.core.frame.DataFrame'>\n",
      "RangeIndex: 1599 entries, 0 to 1598\n",
      "Data columns (total 12 columns):\n",
      " #   Column                Non-Null Count  Dtype  \n",
      "---  ------                --------------  -----  \n",
      " 0   fixed acidity         1599 non-null   float64\n",
      " 1   volatile acidity      1599 non-null   float64\n",
      " 2   citric acid           1599 non-null   float64\n",
      " 3   residual sugar        1599 non-null   float64\n",
      " 4   chlorides             1599 non-null   float64\n",
      " 5   free sulfur dioxide   1599 non-null   float64\n",
      " 6   total sulfur dioxide  1599 non-null   float64\n",
      " 7   density               1599 non-null   float64\n",
      " 8   pH                    1599 non-null   float64\n",
      " 9   sulphates             1599 non-null   float64\n",
      " 10  alcohol               1599 non-null   float64\n",
      " 11  quality               1599 non-null   int64  \n",
      "dtypes: float64(11), int64(1)\n",
      "memory usage: 150.0 KB\n"
     ]
    }
   ],
   "source": [
    "# Zobrazenie základných informácií o datasete\n",
    "wine_data.info()"
   ]
  },
  {
   "cell_type": "markdown",
   "id": "opposite-inside",
   "metadata": {},
   "source": [
    "Úloha: Vykreslite distribúciu premennej 'quality', aby ste videli, ako je distribuovaná kvalita vína. Použite knižnice ako `matplotlib` alebo `seaborn` pre vizualizáciu.\n",
    "\n",
    "## Časť 3: Predspracovanie dát\n",
    "### Riešenie chýbajúcich hodnôt\n",
    "Najprv skontrolujeme chýbajúce hodnoty a zaoberáme sa nimi, ak nejaké sú."
   ]
  },
  {
   "cell_type": "code",
   "execution_count": null,
   "id": "international-holiday",
   "metadata": {},
   "outputs": [],
   "source": [
    "# Kontrola chýbajúcich hodnôt\n",
    "wine_data.isnull().sum()\n",
    "\n",
    "# Ak sú nejaké chýbajúce hodnoty, môžete ich vyplniť priemerom alebo mediánom stĺpca\n",
    "# Príklad: wine_data['column_name'].fillna(wine_data['column_name'].mean(), inplace=True)"
   ]
  },
  {
   "cell_type": "markdown",
   "id": "norwegian-decade",
   "metadata": {},
   "source": [
    "### Škálovanie prvkov\n",
    "Mnoho modelov strojového učenia lepšie funguje, keď sú vstupné numerické premenné škálované alebo normalizované."
   ]
  },
  {
   "cell_type": "code",
   "execution_count": null,
   "id": "successful-uzbekistan",
   "metadata": {},
   "outputs": [],
   "source": [
    "from sklearn.preprocessing import StandardScaler\n",
    "\n",
    "# Definícia prvkov a cieľa\n",
    "X = wine_data.drop('quality', axis=1)\n",
    "y = wine_data['quality']\n",
    "\n",
    "# Škálovanie prvkov\n",
    "scaler = StandardScaler()\n",
    "X_scaled = scaler.fit_transform(X)"
   ]
  },
  {
   "cell_type": "markdown",
   "id": "exposed-highland",
   "metadata": {},
   "source": [
    "Úloha: Škálovajte prvky a overte to zobrazením prvých 5 riadkov škálovaných prvkov.\n",
    "\n",
    "## Časť 4: Rozdelenie datasetu\n",
    "Rozdelíme dataset na trénovaciu a testovaciu množinu."
   ]
  },
  {
   "cell_type": "code",
   "execution_count": null,
   "id": "stone-initial",
   "metadata": {},
   "outputs": [],
   "source": [
    "from sklearn.model_selection import train_test_split\n",
    "\n",
    "X_train, X_test, y_train, y_test = train_test_split(X_scaled, y, test_size=0.2, random_state=42)"
   ]
  },
  {
   "cell_type": "markdown",
   "id": "occasional-dollar",
   "metadata": {},
   "source": [
    "## Časť 5: Trénovanie modelu\n",
    "Použijeme model Random Forest na predikciu kvality vína."
   ]
  },
  {
   "cell_type": "code",
   "execution_count": null,
   "id": "beginning-lingerie",
   "metadata": {},
   "outputs": [],
   "source": [
    "from sklearn.ensemble import RandomForestClassifier\n",
    "\n",
    "# Inicializácia modelu\n",
    "model = RandomForestClassifier(random_state=42)\n",
    "\n",
    "# Trénovanie modelu\n",
    "model.fit(X_train, y_train)"
   ]
  },
  {
   "cell_type": "markdown",
   "id": "exciting-hardware",
   "metadata": {},
   "source": [
    "Úloha: Natrénujte model a vytlačte skóre trénovania.\n",
    "\n",
    "## Časť 6: Hodnotenie modelu\n",
    "Nakoniec, poďme hodnotiť náš model na testovacej množine."
   ]
  },
  {
   "cell_type": "code",
   "execution_count": null,
   "id": "blessed-classification",
   "metadata": {},
   "outputs": [],
   "source": [
    "from sklearn.metrics import accuracy_score, classification_report\n",
    "\n",
    "# Predikcia na testovacej množine\n",
    "y_pred = model.predict(X_test)\n",
    "\n",
    "# Hodnotenie modelu\n",
    "print(\"Accuracy:\", accuracy_score(y_test, y_pred))\n",
    "print(\"\\nClassification Report:\\n\", classification_report(y_test, y_pred))"
   ]
  },
  {
   "cell_type": "markdown",
   "id": "other-warrant",
   "metadata": {},
   "source": [
    "Úloha: Ohodnoťte výkonnosť modelu a zvážte experimentovanie s rôznymi modelmi alebo technikami predspracovania, aby ste videli, či môžete zlepšiť presnosť.\n",
    "\n",
    "## Časť 7: Experimentovanie a záver\n",
    "Skúste rôzne strojové učenie modely, techniky predspracovania alebo metódy inžinierstva prvkov na zlepšenie výkonnosti modelu.\n",
    "\n",
    "Úloha: Vyberte aspoň jeden nový model na trénovanie a porovnajte jeho výkonnosť s modelom Random Forest. Zdokumentujte svoje zistenia a závery."
   ]
  }
 ],
 "metadata": {
  "kernelspec": {
   "display_name": "Python 3",
   "language": "python",
   "name": "python3"
  },
  "language_info": {
   "codemirror_mode": {
    "name": "ipython",
    "version": 3
   },
   "file_extension": ".py",
   "mimetype": "text/x-python",
   "name": "python",
   "nbconvert_exporter": "python",
   "pygments_lexer": "ipython3",
   "version": "3.6.9"
  }
 },
 "nbformat": 4,
 "nbformat_minor": 5
}
